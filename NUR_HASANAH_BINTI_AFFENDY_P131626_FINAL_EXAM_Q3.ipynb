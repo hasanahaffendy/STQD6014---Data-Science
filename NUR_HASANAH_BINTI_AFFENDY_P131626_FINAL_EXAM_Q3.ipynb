{
  "nbformat": 4,
  "nbformat_minor": 0,
  "metadata": {
    "colab": {
      "provenance": [],
      "authorship_tag": "ABX9TyOuzvtNUopC8mtZz533d7CT",
      "include_colab_link": true
    },
    "kernelspec": {
      "name": "python3",
      "display_name": "Python 3"
    },
    "language_info": {
      "name": "python"
    }
  },
  "cells": [
    {
      "cell_type": "markdown",
      "metadata": {
        "id": "view-in-github",
        "colab_type": "text"
      },
      "source": [
        "<a href=\"https://colab.research.google.com/github/hasanahaffendy/STQD6014---Data-Science/blob/main/NUR_HASANAH_BINTI_AFFENDY_P131626_FINAL_EXAM_Q3.ipynb\" target=\"_parent\"><img src=\"https://colab.research.google.com/assets/colab-badge.svg\" alt=\"Open In Colab\"/></a>"
      ]
    },
    {
      "cell_type": "code",
      "execution_count": null,
      "metadata": {
        "colab": {
          "base_uri": "https://localhost:8080/"
        },
        "id": "vdURw5smNs-3",
        "outputId": "74a6361f-4df7-4d55-a3e8-7cd36a3aee09"
      },
      "outputs": [
        {
          "output_type": "stream",
          "name": "stdout",
          "text": [
            "Enter a list of integers separated by spaces: 2 3 4 5\n",
            "Enter the target sum: 5\n",
            "Pairs with sum 5 are (1 pairs):\n",
            "(2, 3)\n"
          ]
        }
      ],
      "source": [
        "def find_pairs_with_sum(nums, target_sum):\n",
        "    pairs = []\n",
        "    for i in range(len(nums)):\n",
        "        for j in range(i + 1, len(nums)):\n",
        "            if nums[i] + nums[j] == target_sum:\n",
        "                pairs.append((nums[i], nums[j]))\n",
        "    return pairs\n",
        "\n",
        "def main():\n",
        "    # Input list of integers\n",
        "    nums = input(\"Enter a list of integers separated by spaces: \").split()\n",
        "    nums = [int(num) for num in nums]\n",
        "\n",
        "    # Input target sum\n",
        "    target_sum = int(input(\"Enter the target sum: \"))\n",
        "\n",
        "    # Find pairs with sum equal to target sum\n",
        "    pairs = find_pairs_with_sum(nums, target_sum)\n",
        "\n",
        "    # Output\n",
        "    print(f\"Pairs with sum {target_sum} are ({len(pairs)} pairs):\")\n",
        "    for pair in pairs:\n",
        "        print(pair)\n",
        "\n",
        "if __name__ == \"__main__\":\n",
        "    main()\n"
      ]
    }
  ]
}