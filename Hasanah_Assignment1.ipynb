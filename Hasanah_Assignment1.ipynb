{
  "nbformat": 4,
  "nbformat_minor": 0,
  "metadata": {
    "colab": {
      "provenance": [],
      "authorship_tag": "ABX9TyMC0n4YjqXyEOYQTxRBXiQ8",
      "include_colab_link": true
    },
    "kernelspec": {
      "name": "python3",
      "display_name": "Python 3"
    },
    "language_info": {
      "name": "python"
    }
  },
  "cells": [
    {
      "cell_type": "markdown",
      "metadata": {
        "id": "view-in-github",
        "colab_type": "text"
      },
      "source": [
        "<a href=\"https://colab.research.google.com/github/hasanahaffendy/STQD6014---Data-Science/blob/main/Hasanah_Assignment1.ipynb\" target=\"_parent\"><img src=\"https://colab.research.google.com/assets/colab-badge.svg\" alt=\"Open In Colab\"/></a>"
      ]
    },
    {
      "cell_type": "markdown",
      "source": [
        "**NUR HASANAH BINTI AFFENDY** <br>\n",
        "**P131626** <br>\n",
        "**PROGRAM EKSEKUTIF STQD6014 - Data Science (SEM 1, 2023/2024)** <br>\n",
        "**Assignment 1 (5%)**"
      ],
      "metadata": {
        "id": "kjIp2Kmdu3Ys"
      }
    },
    {
      "cell_type": "markdown",
      "source": [
        "**Question:** <br>\n",
        "For this assignment, you are required to write a Python program to manage student names and their exam scores for a minimum of three different subjects.Your program should have the following functionalities:\n",
        "\n",
        "1. Calculate and display the average score for each student.\n",
        "2. Identify the students with the highest and lowest scores.\n",
        "\n",
        "Your program should be capable of handling situations where multiple students may have the same highest or lowest score. In such cases, the program should display the names of all students involved and their respective scores."
      ],
      "metadata": {
        "id": "067af7o2wR5E"
      }
    },
    {
      "cell_type": "code",
      "source": [
        "# Initialize a list to store student data as tuples (name, marks)\n",
        "students = []\n",
        "\n",
        "# Input student names and marks using a while loop\n",
        "while True:\n",
        "    name = input(\"\\nEnter the name of the student: \")\n",
        "    subjects = int(input(\"\\nEnter the number of subjects: \"))\n",
        "    marks = [int(input(\"\\nEnter the marks for subject \")) for j in range(subjects)]\n",
        "\n",
        "    students.append((name, marks))\n",
        "\n",
        "    repeat = input(\"\\nWould you like to add another student? (yes/no)\")\n",
        "    if repeat.lower() == 'no':\n",
        "        break\n",
        "\n",
        "# Calculate and display average marks for each student\n",
        "print(\"\\nAverage Marks:\")\n",
        "for name, marks in students:\n",
        "    avg = round(sum(marks) / subjects, 2)\n",
        "    print(f\"\\n{name}: {marks} - Average Marks: {avg}\")\n",
        "\n",
        "# Identify and display students with the highest and lowest total marks\n",
        "total_marks = [sum(marks) for _, marks in students]\n",
        "highest_marks = max(total_marks)\n",
        "lowest_marks = min(total_marks)\n",
        "\n",
        "highest_students = [name for name, marks in students if sum(marks) == highest_marks]\n",
        "lowest_students = [name for name, marks in students if sum(marks) == lowest_marks]\n",
        "\n",
        "print(f\"\\nStudents with the highest total marks ({highest_marks}): {', '.join(highest_students)}\")\n",
        "print(f\"\\nStudents with the lowest total marks ({lowest_marks}): {', '.join(lowest_students)}\")"
      ],
      "metadata": {
        "colab": {
          "base_uri": "https://localhost:8080/"
        },
        "id": "pRqQfMlgfS0f",
        "outputId": "5ef33c1b-c31a-4b18-c386-9d75fb73ea99"
      },
      "execution_count": 2,
      "outputs": [
        {
          "output_type": "stream",
          "name": "stdout",
          "text": [
            "\n",
            "Enter the name of the student: A\n",
            "\n",
            "Enter the number of subjects: 4\n",
            "\n",
            "Enter the marks for subject 32\n",
            "\n",
            "Enter the marks for subject 45\n",
            "\n",
            "Enter the marks for subject 66\n",
            "\n",
            "Enter the marks for subject 88\n",
            "\n",
            "Would you like to add another student? (yes/no)yes\n",
            "\n",
            "Enter the name of the student: H\n",
            "\n",
            "Enter the number of subjects: 4\n",
            "\n",
            "Enter the marks for subject 87\n",
            "\n",
            "Enter the marks for subject 56\n",
            "\n",
            "Enter the marks for subject 65\n",
            "\n",
            "Enter the marks for subject 66\n",
            "\n",
            "Would you like to add another student? (yes/no)yes\n",
            "\n",
            "Enter the name of the student: K\n",
            "\n",
            "Enter the number of subjects: 4\n",
            "\n",
            "Enter the marks for subject 65\n",
            "\n",
            "Enter the marks for subject 48\n",
            "\n",
            "Enter the marks for subject 77\n",
            "\n",
            "Enter the marks for subject 65\n",
            "\n",
            "Would you like to add another student? (yes/no)yes\n",
            "\n",
            "Enter the name of the student: X\n",
            "\n",
            "Enter the number of subjects: 4\n",
            "\n",
            "Enter the marks for subject 56\n",
            "\n",
            "Enter the marks for subject 66\n",
            "\n",
            "Enter the marks for subject 54\n",
            "\n",
            "Enter the marks for subject 98\n",
            "\n",
            "Would you like to add another student? (yes/no)no\n",
            "\n",
            "Average Marks:\n",
            "\n",
            "A: [32, 45, 66, 88] - Average Marks: 57.75\n",
            "\n",
            "H: [87, 56, 65, 66] - Average Marks: 68.5\n",
            "\n",
            "K: [65, 48, 77, 65] - Average Marks: 63.75\n",
            "\n",
            "X: [56, 66, 54, 98] - Average Marks: 68.5\n",
            "\n",
            "Students with the highest total marks (274): H, X\n",
            "\n",
            "Students with the lowest total marks (231): A\n"
          ]
        }
      ]
    }
  ]
}