{
  "nbformat": 4,
  "nbformat_minor": 0,
  "metadata": {
    "colab": {
      "provenance": [],
      "authorship_tag": "ABX9TyMAa6wLlNcIYh7iNCtbfH9o",
      "include_colab_link": true
    },
    "kernelspec": {
      "name": "python3",
      "display_name": "Python 3"
    },
    "language_info": {
      "name": "python"
    }
  },
  "cells": [
    {
      "cell_type": "markdown",
      "metadata": {
        "id": "view-in-github",
        "colab_type": "text"
      },
      "source": [
        "<a href=\"https://colab.research.google.com/github/hasanahaffendy/STQD6014---Data-Science/blob/main/Hasanah_Assignment1.ipynb\" target=\"_parent\"><img src=\"https://colab.research.google.com/assets/colab-badge.svg\" alt=\"Open In Colab\"/></a>"
      ]
    },
    {
      "cell_type": "markdown",
      "source": [
        "**NUR HASANAH BINTI AFFENDY** <br>\n",
        "**P131626** <br>\n",
        "**PROGRAM EKSEKUTIF STQD6014 - Data Science (SEM 1, 2023/2024)** <br>\n",
        "**Assignment 1 (5%)**"
      ],
      "metadata": {
        "id": "kjIp2Kmdu3Ys"
      }
    },
    {
      "cell_type": "markdown",
      "source": [
        "**Question:** <br>\n",
        "For this assignment, you are required to write a Python program to manage student names and their exam scores for a minimum of three different subjects.Your program should have the following functionalities:\n",
        "\n",
        "1. Calculate and display the average score for each student.\n",
        "2. Identify the students with the highest and lowest scores.\n",
        "\n",
        "Your program should be capable of handling situations where multiple students may have the same highest or lowest score. In such cases, the program should display the names of all students involved and their respective scores."
      ],
      "metadata": {
        "id": "067af7o2wR5E"
      }
    },
    {
      "cell_type": "code",
      "source": [
        "# Initialize lists to store student names and marks\n",
        "student_names = []\n",
        "student_marks = []\n",
        "\n",
        "# Input student names and marks using a while loop\n",
        "while True:\n",
        "    name = input(\"\\nEnter the name of the student: \")\n",
        "\n",
        "    subjects = int(input(\"\\nEnter the number of subjects: \"))\n",
        "\n",
        "    marks = [int(input(\"\\nEnter the marks for subject:\" )) for j in range(subjects)]\n",
        "    student_names.append(name)\n",
        "    student_marks.append(marks)\n",
        "\n",
        "    repeat = input(\"\\nwould you like to add another student?\" \"(yes/no)\")\n",
        "    if repeat == 'no':\n",
        "        break\n",
        "\n",
        "# Calculate and display average marks for each student\n",
        "print(\"\\nAverage Marks: \")\n",
        "for i in range(len(student_names)):\n",
        "    avg = round((sum(student_marks[i]) / subjects),2)\n",
        "    print(f\"\\n{student_names[i]}: {student_marks[i]} - Average Marks: {avg}\")\n",
        "\n",
        "# Identify and display students with the highest marks\n",
        "highest_marks = 0\n",
        "highest_students = []\n",
        "\n",
        "for i in range(len(student_names)):\n",
        "    total_marks = sum(student_marks[i])\n",
        "\n",
        "    if total_marks > highest_marks:\n",
        "        highest_marks = total_marks\n",
        "        highest_students = [student_names[i]]\n",
        "    elif total_marks == highest_marks:\n",
        "        highest_students.append(student_names[i])\n",
        "\n",
        "print(f\"\\nStudents with the highest total score ({highest_marks}): {', '.join(highest_students)}\")\n",
        "\n",
        "# Identify and display students with the lowest scores\n",
        "lowest_marks = 100\n",
        "lowest_students = []\n",
        "\n",
        "for i in range(len(student_names)):\n",
        "    total_marks = sum(student_marks[i])\n",
        "\n",
        "\n",
        "    if total_score < lowest_marks:\n",
        "        lowest_marks = total_marks\n",
        "        lowest_students = [student_names[i]]\n",
        "    elif total_marks == lowest_marks:\n",
        "        lowest_students.append(student_names[i])\n",
        "\n",
        "print(f\"\\nStudents with the lowest total marks ({lowest_marks}): {', '.join(lowest_students)}\")\n",
        "\n"
      ],
      "metadata": {
        "colab": {
          "base_uri": "https://localhost:8080/"
        },
        "id": "O0KLTsw7499T",
        "outputId": "49b99672-4eb2-4038-986b-951af1bb2c6a"
      },
      "execution_count": 119,
      "outputs": [
        {
          "output_type": "stream",
          "name": "stdout",
          "text": [
            "\n",
            "Enter the name of the student: h\n",
            "\n",
            "Enter the number of subjects: 1\n",
            "\n",
            "Enter the marks for subject:22\n",
            "\n",
            "would you like to add another student?(yes/no)yes\n",
            "\n",
            "Enter the name of the student: h\n",
            "\n",
            "Enter the number of subjects: 1\n",
            "\n",
            "Enter the marks for subject:54\n",
            "\n",
            "would you like to add another student?(yes/no)no\n",
            "\n",
            "Average Marks: \n",
            "\n",
            "h: [22] - Average Marks: 22.0\n",
            "\n",
            "h: [54] - Average Marks: 54.0\n",
            "\n",
            "Students with the highest total score (54): h\n",
            "\n",
            "Students with the lowest total marks (22): h\n"
          ]
        }
      ]
    }
  ]
}