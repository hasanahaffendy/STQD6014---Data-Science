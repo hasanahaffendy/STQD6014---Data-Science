{
  "nbformat": 4,
  "nbformat_minor": 0,
  "metadata": {
    "colab": {
      "provenance": [],
      "include_colab_link": true
    },
    "kernelspec": {
      "name": "python3",
      "display_name": "Python 3"
    },
    "language_info": {
      "name": "python"
    }
  },
  "cells": [
    {
      "cell_type": "markdown",
      "metadata": {
        "id": "view-in-github",
        "colab_type": "text"
      },
      "source": [
        "<a href=\"https://colab.research.google.com/github/hasanahaffendy/STQD6014---Data-Science/blob/main/Hasanah_Week02_20231029_annotated.ipynb\" target=\"_parent\"><img src=\"https://colab.research.google.com/assets/colab-badge.svg\" alt=\"Open In Colab\"/></a>"
      ]
    },
    {
      "cell_type": "markdown",
      "source": [
        "# **Week02: Python Basic**"
      ],
      "metadata": {
        "id": "AUNwPwpDz7og"
      }
    },
    {
      "cell_type": "markdown",
      "source": [
        "# **Hasanah**"
      ],
      "metadata": {
        "id": "HuRSilXCFajI"
      }
    },
    {
      "cell_type": "code",
      "source": [
        "# Print the message\n",
        "#single code\n",
        "print('Hello world!')"
      ],
      "metadata": {
        "colab": {
          "base_uri": "https://localhost:8080/"
        },
        "id": "7i8rgWRfviZk",
        "outputId": "50c412dd-3ec4-4053-e383-ad6812b9c215"
      },
      "execution_count": 4,
      "outputs": [
        {
          "output_type": "stream",
          "name": "stdout",
          "text": [
            "Hello world!\n"
          ]
        }
      ]
    },
    {
      "cell_type": "code",
      "source": [
        "#using double quote\n",
        "print(\"Hi!\")"
      ],
      "metadata": {
        "colab": {
          "base_uri": "https://localhost:8080/"
        },
        "id": "Mv_-nxJjJ3zB",
        "outputId": "aa688bbc-2e71-443a-d564-b07f0e34fcb8"
      },
      "execution_count": 6,
      "outputs": [
        {
          "output_type": "stream",
          "name": "stdout",
          "text": [
            "Hi!\n"
          ]
        }
      ]
    },
    {
      "cell_type": "code",
      "source": [
        "# Range of 10\n",
        "#(0,10) 0 = inclusive (include), 10 = exclusive (exclude)\n",
        "x=range(10)\n",
        "\n",
        "#print out x\n",
        "print(x)\n",
        "\n",
        "# For loop\n",
        "# mind the syntax -> space of four for subsequent line\n",
        "for value in x:\n",
        "   print(value**2)\n"
      ],
      "metadata": {
        "colab": {
          "base_uri": "https://localhost:8080/"
        },
        "id": "LF_lfXyOvyDm",
        "outputId": "c5c158d7-6cdf-4a54-d0b9-fe85fbb05c21"
      },
      "execution_count": 9,
      "outputs": [
        {
          "output_type": "stream",
          "name": "stdout",
          "text": [
            "range(0, 10)\n",
            "0\n",
            "1\n",
            "4\n",
            "9\n",
            "16\n",
            "25\n",
            "36\n",
            "49\n",
            "64\n",
            "81\n"
          ]
        }
      ]
    },
    {
      "cell_type": "code",
      "source": [
        "# For loop\n",
        "# mind the syntax -> space of four for subsequent line\n",
        "for i in x:\n",
        "   print(i**5)"
      ],
      "metadata": {
        "colab": {
          "base_uri": "https://localhost:8080/"
        },
        "id": "9Gua6SM6LqLA",
        "outputId": "616e96bd-3d3e-41a2-f2c4-6ff4306e5fb4"
      },
      "execution_count": 10,
      "outputs": [
        {
          "output_type": "stream",
          "name": "stdout",
          "text": [
            "0\n",
            "1\n",
            "32\n",
            "243\n",
            "1024\n",
            "3125\n",
            "7776\n",
            "16807\n",
            "32768\n",
            "59049\n"
          ]
        }
      ]
    },
    {
      "cell_type": "markdown",
      "source": [
        "# **Exercise 1: Multiplication**\n",
        "Suppose you have RM100, which you can invest with a 10% return each year. After one year, it's 100×1.1=110 dollars, and after two years it's 100×1.1×1.1=121.\n",
        "\n",
        "* Write a code to calculate how much money you end up with after 7 years\n",
        "* print the result."
      ],
      "metadata": {
        "id": "L0C6r4C4xqKo"
      }
    },
    {
      "cell_type": "code",
      "execution_count": 16,
      "metadata": {
        "colab": {
          "base_uri": "https://localhost:8080/"
        },
        "id": "INCbp6Z-z6_2",
        "outputId": "6ebb972b-167a-49b7-f4c1-fddde67b7398"
      },
      "outputs": [
        {
          "output_type": "stream",
          "name": "stdout",
          "text": [
            "194.87171000000012\n"
          ]
        }
      ],
      "source": [
        "# How much is our $100 worth after 7 years?\n",
        "print(100*1.1**7)"
      ]
    },
    {
      "cell_type": "markdown",
      "source": [
        "# **BMI calculation**"
      ],
      "metadata": {
        "id": "4TJ-UCJyzxcb"
      }
    },
    {
      "cell_type": "code",
      "source": [
        "# Information of height and weight\n",
        "height = 1.75\n",
        "weight = 67.3\n",
        "\n",
        "# BMI calculation\n",
        "BMI = weight / (height**2)\n",
        "\n",
        "# BMI value\n",
        "print(BMI)\n",
        "\n",
        "# What is the new BMI if now the weight is 74.7?\n",
        "BMI2=74.7/ (height**2)\n",
        "BMI2"
      ],
      "metadata": {
        "colab": {
          "base_uri": "https://localhost:8080/"
        },
        "id": "1dbiBsR2y9Gj",
        "outputId": "a1018d1d-8949-4ffb-8bd5-ab2396abe91a"
      },
      "execution_count": 21,
      "outputs": [
        {
          "output_type": "stream",
          "name": "stdout",
          "text": [
            "21.975510204081633\n"
          ]
        },
        {
          "output_type": "execute_result",
          "data": {
            "text/plain": [
              "24.39183673469388"
            ]
          },
          "metadata": {},
          "execution_count": 21
        }
      ]
    },
    {
      "cell_type": "markdown",
      "source": [
        "# **Different Python type**"
      ],
      "metadata": {
        "id": "34r0KkGYsszO"
      }
    },
    {
      "cell_type": "code",
      "source": [
        "# float type (decimal places)\n",
        "type(BMI)"
      ],
      "metadata": {
        "colab": {
          "base_uri": "https://localhost:8080/"
        },
        "id": "myllmSRBsvIK",
        "outputId": "e7522347-a601-4a66-ba75-ff56c959e937"
      },
      "execution_count": 22,
      "outputs": [
        {
          "output_type": "execute_result",
          "data": {
            "text/plain": [
              "float"
            ]
          },
          "metadata": {},
          "execution_count": 22
        }
      ]
    },
    {
      "cell_type": "code",
      "source": [
        "# integer type (Whole Number)\n",
        "day_of_week = 7\n",
        "type(day_of_week)"
      ],
      "metadata": {
        "colab": {
          "base_uri": "https://localhost:8080/"
        },
        "id": "Jv-Mg3MutSL2",
        "outputId": "a6269899-6b7c-4dd2-840b-6267089659f2"
      },
      "execution_count": 23,
      "outputs": [
        {
          "output_type": "execute_result",
          "data": {
            "text/plain": [
              "int"
            ]
          },
          "metadata": {},
          "execution_count": 23
        }
      ]
    },
    {
      "cell_type": "code",
      "source": [
        "# string type\n",
        "x = 'body mass index'\n",
        "y = 'STQD6014'\n",
        "\n",
        "#only take the last step or analysis\n",
        "type(x)\n",
        "type(y)"
      ],
      "metadata": {
        "colab": {
          "base_uri": "https://localhost:8080/"
        },
        "id": "tSpPjy9ktUEs",
        "outputId": "1b975f4e-72f2-45ed-c852-af040f532b57"
      },
      "execution_count": 24,
      "outputs": [
        {
          "output_type": "execute_result",
          "data": {
            "text/plain": [
              "str"
            ]
          },
          "metadata": {},
          "execution_count": 24
        }
      ]
    },
    {
      "cell_type": "code",
      "source": [
        "# string type\n",
        "x = 89\n",
        "y = 'STQD6014'\n",
        "\n",
        "# this output take both data type\n",
        "print(type(x))\n",
        "print(type(y))"
      ],
      "metadata": {
        "colab": {
          "base_uri": "https://localhost:8080/"
        },
        "id": "PjunzANXQRbI",
        "outputId": "89564360-066c-494e-9392-f54336700ee7"
      },
      "execution_count": 26,
      "outputs": [
        {
          "output_type": "stream",
          "name": "stdout",
          "text": [
            "<class 'int'>\n",
            "<class 'str'>\n"
          ]
        }
      ]
    },
    {
      "cell_type": "code",
      "source": [
        "# boolean type (True/False)\n",
        "print(type(True))\n",
        "print(type(False))"
      ],
      "metadata": {
        "colab": {
          "base_uri": "https://localhost:8080/"
        },
        "id": "v2oMvX4WtWkW",
        "outputId": "8a115c7d-c0ba-4189-9922-cd2c8010a6fc"
      },
      "execution_count": 27,
      "outputs": [
        {
          "output_type": "stream",
          "name": "stdout",
          "text": [
            "<class 'bool'>\n",
            "<class 'bool'>\n"
          ]
        }
      ]
    },
    {
      "cell_type": "markdown",
      "source": [
        "# **Different Python Data type = Different Behaviour**"
      ],
      "metadata": {
        "id": "9cOD3Xvlt8Iv"
      }
    },
    {
      "cell_type": "code",
      "source": [
        "# Summation of numbers\n",
        "2+3"
      ],
      "metadata": {
        "colab": {
          "base_uri": "https://localhost:8080/"
        },
        "id": "SqxO6MmquBpF",
        "outputId": "c7dbd52e-026b-45e8-f203-df493dc12138"
      },
      "execution_count": 28,
      "outputs": [
        {
          "output_type": "execute_result",
          "data": {
            "text/plain": [
              "5"
            ]
          },
          "metadata": {},
          "execution_count": 28
        }
      ]
    },
    {
      "cell_type": "code",
      "source": [
        "# Summation of strings\n",
        "'ab'+'cde'"
      ],
      "metadata": {
        "colab": {
          "base_uri": "https://localhost:8080/",
          "height": 36
        },
        "id": "X0fj-mtJuHM3",
        "outputId": "aa7478a4-8bb9-473e-998b-e25e301c0c18"
      },
      "execution_count": 29,
      "outputs": [
        {
          "output_type": "execute_result",
          "data": {
            "text/plain": [
              "'abcde'"
            ],
            "application/vnd.google.colaboratory.intrinsic+json": {
              "type": "string"
            }
          },
          "metadata": {},
          "execution_count": 29
        }
      ]
    },
    {
      "cell_type": "markdown",
      "source": [
        "# **Exercise 2: Python as calculator**"
      ],
      "metadata": {
        "id": "hWlzJvaYukB2"
      }
    },
    {
      "cell_type": "code",
      "source": [
        "# Create a variable savings\n",
        "savings=100\n",
        "\n",
        "# Create a variable growth_multiplier\n",
        "growth_multiplier =1.1\n",
        "\n",
        "# Calculate result\n",
        "result =savings*growth_multiplier**7\n",
        "\n",
        "# Print out result\n",
        "result"
      ],
      "metadata": {
        "colab": {
          "base_uri": "https://localhost:8080/"
        },
        "id": "w-GAcf_v6H6I",
        "outputId": "12980e03-081c-4030-b311-3d7124edd94a"
      },
      "execution_count": 30,
      "outputs": [
        {
          "output_type": "execute_result",
          "data": {
            "text/plain": [
              "194.87171000000012"
            ]
          },
          "metadata": {},
          "execution_count": 30
        }
      ]
    },
    {
      "cell_type": "markdown",
      "source": [
        "# **Exercise 3: String and boolean**"
      ],
      "metadata": {
        "id": "OBx7GpTuvhY6"
      }
    },
    {
      "cell_type": "code",
      "source": [
        "# Create a variable desc\n",
        "Desc='Compound Interest'\n",
        "\n",
        "# Data type for desc\n",
        "type(Desc)"
      ],
      "metadata": {
        "id": "I1rFMEEi6pgC",
        "colab": {
          "base_uri": "https://localhost:8080/"
        },
        "outputId": "16c61ba0-fdd1-4b92-a0f5-d48a6ca0fbd6"
      },
      "execution_count": 32,
      "outputs": [
        {
          "output_type": "execute_result",
          "data": {
            "text/plain": [
              "str"
            ]
          },
          "metadata": {},
          "execution_count": 32
        }
      ]
    },
    {
      "cell_type": "code",
      "source": [
        "# Create a variable profitable\n",
        "profitable = True\n",
        "\n",
        "# Data type of profitable\n",
        "type(profitable)\n"
      ],
      "metadata": {
        "colab": {
          "base_uri": "https://localhost:8080/"
        },
        "id": "mVodND3qwJn7",
        "outputId": "5517eb1e-5d55-436d-c216-bc882f4a9a02"
      },
      "execution_count": 33,
      "outputs": [
        {
          "output_type": "execute_result",
          "data": {
            "text/plain": [
              "bool"
            ]
          },
          "metadata": {},
          "execution_count": 33
        }
      ]
    },
    {
      "cell_type": "markdown",
      "source": [
        "# **Exercise 4: Python data type**"
      ],
      "metadata": {
        "id": "hRuYlyURwdms"
      }
    },
    {
      "cell_type": "code",
      "source": [
        "# Given the following data\n",
        "a = 194.87171000000012\n",
        "b = 'true'\n",
        "c = False"
      ],
      "metadata": {
        "id": "TfOWY8g567KL"
      },
      "execution_count": 35,
      "outputs": []
    },
    {
      "cell_type": "code",
      "source": [
        "# Data type for variable a\n",
        "type(a)"
      ],
      "metadata": {
        "colab": {
          "base_uri": "https://localhost:8080/"
        },
        "id": "cBwPvgh7xxF8",
        "outputId": "c99eff3c-5a1d-477b-b8a0-f354b4d0320b"
      },
      "execution_count": 36,
      "outputs": [
        {
          "output_type": "execute_result",
          "data": {
            "text/plain": [
              "float"
            ]
          },
          "metadata": {},
          "execution_count": 36
        }
      ]
    },
    {
      "cell_type": "code",
      "source": [
        "# Data type for variable b\n",
        "type(b)"
      ],
      "metadata": {
        "colab": {
          "base_uri": "https://localhost:8080/"
        },
        "id": "suHPnAE4wrxl",
        "outputId": "ac77e83d-9f1e-4221-9e6d-67321a5c0458"
      },
      "execution_count": 37,
      "outputs": [
        {
          "output_type": "execute_result",
          "data": {
            "text/plain": [
              "str"
            ]
          },
          "metadata": {},
          "execution_count": 37
        }
      ]
    },
    {
      "cell_type": "code",
      "source": [
        "# Data type for variable c\n",
        "type(c)"
      ],
      "metadata": {
        "colab": {
          "base_uri": "https://localhost:8080/"
        },
        "id": "WysFvXkowvQu",
        "outputId": "0e563fc1-cd24-4f71-f006-b055d308ba64"
      },
      "execution_count": 38,
      "outputs": [
        {
          "output_type": "execute_result",
          "data": {
            "text/plain": [
              "bool"
            ]
          },
          "metadata": {},
          "execution_count": 38
        }
      ]
    },
    {
      "cell_type": "markdown",
      "source": [
        "# **Exercise 5: Python as arithmetic operator**"
      ],
      "metadata": {
        "id": "ucjRAAn9w27G"
      }
    },
    {
      "cell_type": "code",
      "source": [
        "# Given the following data\n",
        "savings = 100\n",
        "growth_multiplier = 1.1"
      ],
      "metadata": {
        "id": "5J_PB7rM7l8H"
      },
      "execution_count": 39,
      "outputs": []
    },
    {
      "cell_type": "code",
      "source": [
        "# Assign product of savings and growth_multiplier to year1\n",
        "year1 = savings*growth_multiplier"
      ],
      "metadata": {
        "id": "W_ZHcg6cxyAl"
      },
      "execution_count": 40,
      "outputs": []
    },
    {
      "cell_type": "code",
      "source": [
        "# print out type of year1\n",
        "type(year1)"
      ],
      "metadata": {
        "colab": {
          "base_uri": "https://localhost:8080/"
        },
        "id": "OjAYLejExcPp",
        "outputId": "6ba3f080-cad4-4347-ad4a-0d98cd6bfa60"
      },
      "execution_count": 41,
      "outputs": [
        {
          "output_type": "execute_result",
          "data": {
            "text/plain": [
              "float"
            ]
          },
          "metadata": {},
          "execution_count": 41
        }
      ]
    },
    {
      "cell_type": "code",
      "source": [
        "# Assign sum of desc and desc to doubledesc\n",
        "# Given desc = \"compound interest\"\n",
        "doubledesc= Desc+Desc"
      ],
      "metadata": {
        "id": "hshX4ruBxt9N"
      },
      "execution_count": 43,
      "outputs": []
    },
    {
      "cell_type": "code",
      "source": [
        "# Print doubledesc\n",
        "doubledesc"
      ],
      "metadata": {
        "colab": {
          "base_uri": "https://localhost:8080/",
          "height": 36
        },
        "id": "7nzg-T06x9Uk",
        "outputId": "7772f654-dfb3-48c6-8342-0f6f92bd43af"
      },
      "execution_count": 44,
      "outputs": [
        {
          "output_type": "execute_result",
          "data": {
            "text/plain": [
              "'Compound InterestCompound Interest'"
            ],
            "application/vnd.google.colaboratory.intrinsic+json": {
              "type": "string"
            }
          },
          "metadata": {},
          "execution_count": 44
        }
      ]
    },
    {
      "cell_type": "markdown",
      "source": [
        "# **Exercise 6: Debugging the code**\n",
        "The following code has error message.\n",
        "Please fix it!\n"
      ],
      "metadata": {
        "id": "n4PaBCIOy0Sq"
      }
    },
    {
      "cell_type": "code",
      "source": [
        "# Definition of savings and result\n",
        "savings = 100\n",
        "result = 100 * 1.10 ** 7\n",
        "\n",
        "# Print out the message\n",
        "print(\"I started with $\" + savings + \" and now have $\" + result + \". Awesome!\")\n",
        "\n",
        "# Definition of pi_string\n",
        "pi_string = \"3.1415926\"\n",
        "\n",
        "# Convert pi_string into float: pi_float\n",
        "float(pi_string)"
      ],
      "metadata": {
        "colab": {
          "base_uri": "https://localhost:8080/",
          "height": 245
        },
        "id": "E59lPRrvz_fz",
        "outputId": "d2741e90-58e9-49bb-b9b5-e6f985a3e8b1"
      },
      "execution_count": 46,
      "outputs": [
        {
          "output_type": "error",
          "ename": "TypeError",
          "evalue": "ignored",
          "traceback": [
            "\u001b[0;31m---------------------------------------------------------------------------\u001b[0m",
            "\u001b[0;31mTypeError\u001b[0m                                 Traceback (most recent call last)",
            "\u001b[0;32m<ipython-input-46-ef6f909e2b42>\u001b[0m in \u001b[0;36m<cell line: 6>\u001b[0;34m()\u001b[0m\n\u001b[1;32m      4\u001b[0m \u001b[0;34m\u001b[0m\u001b[0m\n\u001b[1;32m      5\u001b[0m \u001b[0;31m# Print out the message\u001b[0m\u001b[0;34m\u001b[0m\u001b[0;34m\u001b[0m\u001b[0m\n\u001b[0;32m----> 6\u001b[0;31m \u001b[0mprint\u001b[0m\u001b[0;34m(\u001b[0m\u001b[0;34m\"I started with $\"\u001b[0m \u001b[0;34m+\u001b[0m \u001b[0msavings\u001b[0m \u001b[0;34m+\u001b[0m \u001b[0;34m\" and now have $\"\u001b[0m \u001b[0;34m+\u001b[0m \u001b[0mresult\u001b[0m \u001b[0;34m+\u001b[0m \u001b[0;34m\". Awesome!\"\u001b[0m\u001b[0;34m)\u001b[0m\u001b[0;34m\u001b[0m\u001b[0;34m\u001b[0m\u001b[0m\n\u001b[0m\u001b[1;32m      7\u001b[0m \u001b[0;34m\u001b[0m\u001b[0m\n\u001b[1;32m      8\u001b[0m \u001b[0;31m# Definition of pi_string\u001b[0m\u001b[0;34m\u001b[0m\u001b[0;34m\u001b[0m\u001b[0m\n",
            "\u001b[0;31mTypeError\u001b[0m: can only concatenate str (not \"int\") to str"
          ]
        }
      ]
    },
    {
      "cell_type": "markdown",
      "source": [
        "#### **Fixing in ACTION!!!**"
      ],
      "metadata": {
        "id": "SawYUYgw0PBg"
      }
    },
    {
      "cell_type": "code",
      "source": [
        "# Definition of savings and result\n",
        "result = 100 * 1.10 ** 7\n",
        "\n",
        "# Fix the print out\n",
        "print(\"I started with $\" + str(savings) + \" and now have $\" + str(result) + \". Awesome!\")\n",
        "\n",
        "# Definition of pi_string\n",
        "pi_string = \"3.1415926\"\n",
        "\n",
        "# Convert pi_string into float: pi_float\n",
        "pi_float = float(pi_string)"
      ],
      "metadata": {
        "colab": {
          "base_uri": "https://localhost:8080/"
        },
        "id": "C3Tja5SI7xGm",
        "outputId": "857afbc8-3d89-4cfa-e1cc-576a7e009ec0"
      },
      "execution_count": 47,
      "outputs": [
        {
          "output_type": "stream",
          "name": "stdout",
          "text": [
            "I started with $100 and now have $194.87171000000012. Awesome!\n"
          ]
        }
      ]
    },
    {
      "cell_type": "markdown",
      "source": [
        "# **Which one of these will throw an error?**"
      ],
      "metadata": {
        "id": "bdzjq10g1FKA"
      }
    },
    {
      "cell_type": "code",
      "source": [
        "# Summation of string\n",
        "\"I can add integers, like \" + str(5) + \" to strings.\""
      ],
      "metadata": {
        "colab": {
          "base_uri": "https://localhost:8080/",
          "height": 36
        },
        "id": "bDcOxdjy1HKv",
        "outputId": "00fa06e0-cc17-4018-fa79-7b402ff60c9e"
      },
      "execution_count": 48,
      "outputs": [
        {
          "output_type": "execute_result",
          "data": {
            "text/plain": [
              "'I can add integers, like 5 to strings.'"
            ],
            "application/vnd.google.colaboratory.intrinsic+json": {
              "type": "string"
            }
          },
          "metadata": {},
          "execution_count": 48
        }
      ]
    },
    {
      "cell_type": "code",
      "source": [
        "# Multiplication of string\n",
        "\"I said \" + (\"Hey \" * 2) + \"Hey!\""
      ],
      "metadata": {
        "colab": {
          "base_uri": "https://localhost:8080/",
          "height": 36
        },
        "id": "PRMQpmEn1LQ7",
        "outputId": "a489d99b-b056-4005-8085-6f536fa03e9f"
      },
      "execution_count": 49,
      "outputs": [
        {
          "output_type": "execute_result",
          "data": {
            "text/plain": [
              "'I said Hey Hey Hey!'"
            ],
            "application/vnd.google.colaboratory.intrinsic+json": {
              "type": "string"
            }
          },
          "metadata": {},
          "execution_count": 49
        }
      ]
    },
    {
      "cell_type": "code",
      "source": [
        "# This one has an error\n",
        "\"The correct answer to this multiple choice exercise is answer number \" + 2"
      ],
      "metadata": {
        "colab": {
          "base_uri": "https://localhost:8080/",
          "height": 192
        },
        "id": "aLogRkoe1O8E",
        "outputId": "0fd9b4e6-44fb-42c3-a277-58f68c786ed2"
      },
      "execution_count": 50,
      "outputs": [
        {
          "output_type": "error",
          "ename": "TypeError",
          "evalue": "ignored",
          "traceback": [
            "\u001b[0;31m---------------------------------------------------------------------------\u001b[0m",
            "\u001b[0;31mTypeError\u001b[0m                                 Traceback (most recent call last)",
            "\u001b[0;32m<ipython-input-50-f96160f40661>\u001b[0m in \u001b[0;36m<cell line: 2>\u001b[0;34m()\u001b[0m\n\u001b[1;32m      1\u001b[0m \u001b[0;31m# This one has an error\u001b[0m\u001b[0;34m\u001b[0m\u001b[0;34m\u001b[0m\u001b[0m\n\u001b[0;32m----> 2\u001b[0;31m \u001b[0;34m\"The correct answer to this multiple choice exercise is answer number \"\u001b[0m \u001b[0;34m+\u001b[0m \u001b[0;36m2\u001b[0m\u001b[0;34m\u001b[0m\u001b[0;34m\u001b[0m\u001b[0m\n\u001b[0m",
            "\u001b[0;31mTypeError\u001b[0m: can only concatenate str (not \"int\") to str"
          ]
        }
      ]
    },
    {
      "cell_type": "code",
      "source": [
        "# We can fix it\n",
        "# We can run python code in multiple line (in continuation) using the backlash \\\n",
        "\"The correct answer to this multiple choice exercise is answer number \"\\\n",
        " + str(2)"
      ],
      "metadata": {
        "colab": {
          "base_uri": "https://localhost:8080/",
          "height": 36
        },
        "id": "zJAQEw1d1jbB",
        "outputId": "0ebfa9e8-e647-493b-cbf4-b8f789d0d3ea"
      },
      "execution_count": 56,
      "outputs": [
        {
          "output_type": "execute_result",
          "data": {
            "text/plain": [
              "'The correct answer to this multiple choice exercise is answer number 2'"
            ],
            "application/vnd.google.colaboratory.intrinsic+json": {
              "type": "string"
            }
          },
          "metadata": {},
          "execution_count": 56
        }
      ]
    },
    {
      "cell_type": "code",
      "source": [
        "# True = 1 and False = 0\n",
        "True + False"
      ],
      "metadata": {
        "colab": {
          "base_uri": "https://localhost:8080/"
        },
        "id": "jjVdRlUw1Tjp",
        "outputId": "3f72710c-872f-40f2-e893-83ad8bace1d7"
      },
      "execution_count": 52,
      "outputs": [
        {
          "output_type": "execute_result",
          "data": {
            "text/plain": [
              "1"
            ]
          },
          "metadata": {},
          "execution_count": 52
        }
      ]
    },
    {
      "cell_type": "markdown",
      "source": [
        "# **Python Lists**\n",
        "A list in a square bracket, [ ]"
      ],
      "metadata": {
        "id": "w8F8ngzf4jff"
      }
    },
    {
      "cell_type": "code",
      "source": [
        "# Different data type in a list\n",
        "fam = ['Liz',1.73, 'emma',1.68, 'mom',1.71, 'dad',1.89]\n",
        "type(fam)"
      ],
      "metadata": {
        "colab": {
          "base_uri": "https://localhost:8080/"
        },
        "id": "x0BnV6lk4oGy",
        "outputId": "1f64afbd-6b0c-4168-adfe-3f819c2f2fc8"
      },
      "execution_count": 58,
      "outputs": [
        {
          "output_type": "execute_result",
          "data": {
            "text/plain": [
              "list"
            ]
          },
          "metadata": {},
          "execution_count": 58
        }
      ]
    },
    {
      "cell_type": "code",
      "source": [
        "#python indexing start with 0\n",
        "fam[3]"
      ],
      "metadata": {
        "colab": {
          "base_uri": "https://localhost:8080/"
        },
        "id": "mM_TVISoYunY",
        "outputId": "b224ccfe-7e5b-405d-9a0c-853fe41280c8"
      },
      "execution_count": 63,
      "outputs": [
        {
          "output_type": "execute_result",
          "data": {
            "text/plain": [
              "1.68"
            ]
          },
          "metadata": {},
          "execution_count": 63
        }
      ]
    },
    {
      "cell_type": "code",
      "source": [
        "# A list in a list\n",
        "fam2 =[['Liz',1.73],\n",
        "        ['emma',1.68],\n",
        "         ['mom',1.71],\n",
        "         ['dad',1.89]]\n",
        "type(fam2)"
      ],
      "metadata": {
        "colab": {
          "base_uri": "https://localhost:8080/"
        },
        "id": "lfqoEH6Y48MO",
        "outputId": "ae06d9b3-315c-48d1-8166-0663d0afbdbe"
      },
      "execution_count": 62,
      "outputs": [
        {
          "output_type": "execute_result",
          "data": {
            "text/plain": [
              "list"
            ]
          },
          "metadata": {},
          "execution_count": 62
        }
      ]
    },
    {
      "cell_type": "code",
      "source": [
        "#indexing as well but with different output\n",
        "fam2[3]"
      ],
      "metadata": {
        "colab": {
          "base_uri": "https://localhost:8080/"
        },
        "id": "O3kJ3K7VY7Ka",
        "outputId": "a54ea4dc-ff71-4082-9eb0-b0b5c6828491"
      },
      "execution_count": 64,
      "outputs": [
        {
          "output_type": "execute_result",
          "data": {
            "text/plain": [
              "['dad', 1.89]"
            ]
          },
          "metadata": {},
          "execution_count": 64
        }
      ]
    },
    {
      "cell_type": "markdown",
      "source": [
        "# **Exercise 7: Creating a list**"
      ],
      "metadata": {
        "id": "A1KHnXe306Lb"
      }
    },
    {
      "cell_type": "code",
      "source": [
        "# Area variables (in square meters)\n",
        "hall = 11.25\n",
        "kit = 18.8\n",
        "liv = 20.0\n",
        "bed = 10.75\n",
        "bath = 9.5\n",
        "\n",
        "# Create list areas\n",
        "areas=[hall, kit, liv, bed, bath]\n",
        "\n",
        "# Print areas\n",
        "areas"
      ],
      "metadata": {
        "colab": {
          "base_uri": "https://localhost:8080/"
        },
        "id": "LDneWQpdDy9V",
        "outputId": "7271f5ad-1116-4294-ae23-9b04f0688008"
      },
      "execution_count": 67,
      "outputs": [
        {
          "output_type": "execute_result",
          "data": {
            "text/plain": [
              "[11.25, 18.8, 20.0, 10.75, 9.5]"
            ]
          },
          "metadata": {},
          "execution_count": 67
        }
      ]
    },
    {
      "cell_type": "markdown",
      "source": [
        "# **Exercise 8: Adding name to a list**"
      ],
      "metadata": {
        "id": "9gmWlpa-PyB8"
      }
    },
    {
      "cell_type": "code",
      "source": [
        "# Area variables (in square meters)\n",
        "hall = 11.25\n",
        "kit = 18.0\n",
        "liv = 20.0\n",
        "bed = 10.75\n",
        "bath = 9.50\n",
        "\n",
        "# Adapt list areas - add name for each room\n",
        "areas=['hallway', hall, 'kitchen', kit, 'living room', liv, 'bedroom', bed, \\\n",
        "       'bathroom', bath]\n",
        "\n",
        "# Print areas\n",
        "print(areas)"
      ],
      "metadata": {
        "colab": {
          "base_uri": "https://localhost:8080/"
        },
        "id": "wAOGbKeMajQS",
        "outputId": "48e886e1-d061-4350-847f-388a7e46fc3c"
      },
      "execution_count": 73,
      "outputs": [
        {
          "output_type": "stream",
          "name": "stdout",
          "text": [
            "['hallway', 11.25, 'kitchen', 18.0, 'living room', 20.0, 'bedroom', 10.75, 'bathroom', 9.5]\n"
          ]
        }
      ]
    },
    {
      "cell_type": "markdown",
      "source": [
        "# **Select the valid list**"
      ],
      "metadata": {
        "id": "bCVSJ_VEQHTf"
      }
    },
    {
      "cell_type": "code",
      "source": [
        "# Example A\n",
        "[1, 3, 4, 2]"
      ],
      "metadata": {
        "colab": {
          "base_uri": "https://localhost:8080/"
        },
        "id": "nIvvKk3mQIxe",
        "outputId": "7690511f-ad1d-48aa-b545-a61f4b5ae8e5"
      },
      "execution_count": 74,
      "outputs": [
        {
          "output_type": "execute_result",
          "data": {
            "text/plain": [
              "[1, 3, 4, 2]"
            ]
          },
          "metadata": {},
          "execution_count": 74
        }
      ]
    },
    {
      "cell_type": "code",
      "source": [
        "# Example B\n",
        "[[1, 2, 3], [4, 5, 7]]"
      ],
      "metadata": {
        "colab": {
          "base_uri": "https://localhost:8080/"
        },
        "id": "NX3vdmrNQOBJ",
        "outputId": "cd078147-23d6-47c3-fea1-920ed77f54a1"
      },
      "execution_count": 75,
      "outputs": [
        {
          "output_type": "execute_result",
          "data": {
            "text/plain": [
              "[[1, 2, 3], [4, 5, 7]]"
            ]
          },
          "metadata": {},
          "execution_count": 75
        }
      ]
    },
    {
      "cell_type": "code",
      "source": [
        "# Example C\n",
        "#list can combine multiple data type\n",
        "[1 + 2, \"a\" * 5, 3]"
      ],
      "metadata": {
        "colab": {
          "base_uri": "https://localhost:8080/"
        },
        "id": "uc7PUn8GQRzl",
        "outputId": "6ffe66fb-5915-40e4-dcce-0d207bb7a906"
      },
      "execution_count": 77,
      "outputs": [
        {
          "output_type": "execute_result",
          "data": {
            "text/plain": [
              "[3, 'aaaaa', 3]"
            ]
          },
          "metadata": {},
          "execution_count": 77
        }
      ]
    },
    {
      "cell_type": "markdown",
      "source": [
        "# **Exercise 9: List**"
      ],
      "metadata": {
        "id": "F7kv1wnCQcgu"
      }
    },
    {
      "cell_type": "code",
      "source": [
        "# Area variables (in square meters)\n",
        "hall = 11.25\n",
        "kit = 18.0\n",
        "liv = 20.0\n",
        "bed = 10.75\n",
        "bath = 9.50\n",
        "\n",
        "# house information as list of lists\n",
        "house = [[\"hallway\", hall],\n",
        "         [\"kitchen\", kit],\n",
        "         [\"living room\", liv],\n",
        "         [\"bedroom\", bed],\n",
        "         [\"bathroom\", bath]]\n",
        "\n",
        "# Print out house\n",
        "print(house)\n",
        "\n",
        "# Print out the type of house\n",
        "print(type(house))"
      ],
      "metadata": {
        "colab": {
          "base_uri": "https://localhost:8080/"
        },
        "id": "17D1grMuaoks",
        "outputId": "d66929aa-33f7-4457-beec-98c6cabc3166"
      },
      "execution_count": 80,
      "outputs": [
        {
          "output_type": "stream",
          "name": "stdout",
          "text": [
            "[['hallway', 11.25], ['kitchen', 18.0], ['living room', 20.0], ['bedroom', 10.75], ['bathroom', 9.5]]\n",
            "<class 'list'>\n"
          ]
        }
      ]
    },
    {
      "cell_type": "markdown",
      "source": [
        "# **Subsetting the lists**"
      ],
      "metadata": {
        "id": "wqHjDjZdRJiw"
      }
    },
    {
      "cell_type": "code",
      "source": [
        "# Given the fam list from previous example\n",
        "fam"
      ],
      "metadata": {
        "colab": {
          "base_uri": "https://localhost:8080/"
        },
        "id": "00SU4uOhRLKD",
        "outputId": "2a436a63-f580-4071-94ab-643a75fb43b6"
      },
      "execution_count": 81,
      "outputs": [
        {
          "output_type": "execute_result",
          "data": {
            "text/plain": [
              "['Liz', 1.73, 'emma', 1.68, 'mom', 1.71, 'dad', 1.89]"
            ]
          },
          "metadata": {},
          "execution_count": 81
        }
      ]
    },
    {
      "cell_type": "code",
      "source": [
        "# Emma's height\n",
        "fam[3]"
      ],
      "metadata": {
        "colab": {
          "base_uri": "https://localhost:8080/"
        },
        "id": "D5PAlT0ARfyp",
        "outputId": "1ff5a852-2958-4799-9738-c57a4e4617b0"
      },
      "execution_count": 83,
      "outputs": [
        {
          "output_type": "execute_result",
          "data": {
            "text/plain": [
              "1.68"
            ]
          },
          "metadata": {},
          "execution_count": 83
        }
      ]
    },
    {
      "cell_type": "code",
      "source": [
        "# Using negative index to get Emma's height\n",
        "# count from the back, start with -1\n",
        "fam[-5]"
      ],
      "metadata": {
        "colab": {
          "base_uri": "https://localhost:8080/"
        },
        "id": "eSSyWuWqRnLT",
        "outputId": "88afdb17-c0a7-4713-c806-18b15253db71"
      },
      "execution_count": 85,
      "outputs": [
        {
          "output_type": "execute_result",
          "data": {
            "text/plain": [
              "1.68"
            ]
          },
          "metadata": {},
          "execution_count": 85
        }
      ]
    },
    {
      "cell_type": "markdown",
      "source": [
        "# **List slicing**"
      ],
      "metadata": {
        "id": "PUOsBCVRSBvN"
      }
    },
    {
      "cell_type": "code",
      "source": [
        "# Given the fam list again\n",
        "fam"
      ],
      "metadata": {
        "colab": {
          "base_uri": "https://localhost:8080/"
        },
        "id": "YxHPTc7pSDOP",
        "outputId": "4e852058-7949-4e00-934e-f5ecd080ecf5"
      },
      "execution_count": 86,
      "outputs": [
        {
          "output_type": "execute_result",
          "data": {
            "text/plain": [
              "['Liz', 1.73, 'emma', 1.68, 'mom', 1.71, 'dad', 1.89]"
            ]
          },
          "metadata": {},
          "execution_count": 86
        }
      ]
    },
    {
      "cell_type": "code",
      "source": [
        "# What would fam[3:5] give us?\n",
        "#(0,10) 0 = inclusive (include), 10 = exclusive (exclude)\n",
        "fam[3:5]"
      ],
      "metadata": {
        "colab": {
          "base_uri": "https://localhost:8080/"
        },
        "id": "tW98wZyHSHe6",
        "outputId": "6a62985e-493c-48b1-9897-a1c88c03f9f0"
      },
      "execution_count": 87,
      "outputs": [
        {
          "output_type": "execute_result",
          "data": {
            "text/plain": [
              "[1.68, 'mom']"
            ]
          },
          "metadata": {},
          "execution_count": 87
        }
      ]
    },
    {
      "cell_type": "code",
      "source": [
        "# What would fam[1:4] give us?\n",
        "fam[1:4]"
      ],
      "metadata": {
        "colab": {
          "base_uri": "https://localhost:8080/"
        },
        "id": "mWWOJQYuSXvy",
        "outputId": "30808a25-b1fe-44e5-8418-8fec45a03fa3"
      },
      "execution_count": 88,
      "outputs": [
        {
          "output_type": "execute_result",
          "data": {
            "text/plain": [
              "[1.73, 'emma', 1.68]"
            ]
          },
          "metadata": {},
          "execution_count": 88
        }
      ]
    },
    {
      "cell_type": "code",
      "source": [
        "# What would fam[:4] give us?\n",
        "#[:4] - empty means all\n",
        "fam[:4]"
      ],
      "metadata": {
        "colab": {
          "base_uri": "https://localhost:8080/"
        },
        "id": "zB-qOUZsShdY",
        "outputId": "58129d12-75ec-441d-fac9-e3cb8254c6aa"
      },
      "execution_count": 89,
      "outputs": [
        {
          "output_type": "execute_result",
          "data": {
            "text/plain": [
              "['Liz', 1.73, 'emma', 1.68]"
            ]
          },
          "metadata": {},
          "execution_count": 89
        }
      ]
    },
    {
      "cell_type": "code",
      "source": [
        "# What would fam[5: ] give us?\n",
        "fam[5: ]"
      ],
      "metadata": {
        "colab": {
          "base_uri": "https://localhost:8080/"
        },
        "id": "2lkHOfuNSpst",
        "outputId": "72e5335c-a8a2-47b1-9557-8c093f5ae7b0"
      },
      "execution_count": 90,
      "outputs": [
        {
          "output_type": "execute_result",
          "data": {
            "text/plain": [
              "[1.71, 'dad', 1.89]"
            ]
          },
          "metadata": {},
          "execution_count": 90
        }
      ]
    },
    {
      "cell_type": "markdown",
      "source": [
        "# **Exercise 10 : Indexing**"
      ],
      "metadata": {
        "id": "-MzRGvo6S_23"
      }
    },
    {
      "cell_type": "code",
      "source": [
        "# Given the areas list\n",
        "areas"
      ],
      "metadata": {
        "colab": {
          "base_uri": "https://localhost:8080/"
        },
        "id": "PKO6PpeaD0td",
        "outputId": "e5c14132-0e39-4b52-e46b-2a2a98858af8"
      },
      "execution_count": 92,
      "outputs": [
        {
          "output_type": "execute_result",
          "data": {
            "text/plain": [
              "['hallway',\n",
              " 11.25,\n",
              " 'kitchen',\n",
              " 18.0,\n",
              " 'living room',\n",
              " 20.0,\n",
              " 'bedroom',\n",
              " 10.75,\n",
              " 'bathroom',\n",
              " 9.5]"
            ]
          },
          "metadata": {},
          "execution_count": 92
        }
      ]
    },
    {
      "cell_type": "code",
      "source": [
        "# Print out second element from areas\n",
        "areas[1]"
      ],
      "metadata": {
        "colab": {
          "base_uri": "https://localhost:8080/"
        },
        "id": "Ci3cBtoiTKdw",
        "outputId": "889d4414-aafe-4de2-9907-aeb79acd9150"
      },
      "execution_count": 93,
      "outputs": [
        {
          "output_type": "execute_result",
          "data": {
            "text/plain": [
              "11.25"
            ]
          },
          "metadata": {},
          "execution_count": 93
        }
      ]
    },
    {
      "cell_type": "code",
      "source": [
        "# Print out last element from areas\n",
        "areas[-1]"
      ],
      "metadata": {
        "colab": {
          "base_uri": "https://localhost:8080/"
        },
        "id": "5RuEA8E2TNBW",
        "outputId": "8b5a8502-2cda-43d3-ec8d-d5fbd28b170e"
      },
      "execution_count": 94,
      "outputs": [
        {
          "output_type": "execute_result",
          "data": {
            "text/plain": [
              "9.5"
            ]
          },
          "metadata": {},
          "execution_count": 94
        }
      ]
    },
    {
      "cell_type": "code",
      "source": [
        "# Print out the area of the living room\n",
        "areas[5]"
      ],
      "metadata": {
        "colab": {
          "base_uri": "https://localhost:8080/"
        },
        "id": "Zhd0UmaITPVf",
        "outputId": "7402d59d-98f1-44b1-9fd5-d1afca635dca"
      },
      "execution_count": 95,
      "outputs": [
        {
          "output_type": "execute_result",
          "data": {
            "text/plain": [
              "20.0"
            ]
          },
          "metadata": {},
          "execution_count": 95
        }
      ]
    },
    {
      "cell_type": "markdown",
      "source": [
        "# **Exercise 11: combination of list subsetting and variable assignment**"
      ],
      "metadata": {
        "id": "bmlbC4FyTl5L"
      }
    },
    {
      "cell_type": "code",
      "source": [
        "# Given the areas list\n",
        "areas"
      ],
      "metadata": {
        "colab": {
          "base_uri": "https://localhost:8080/"
        },
        "id": "4ulfoFQFYjpr",
        "outputId": "6a784576-5c2c-4e8c-f0f4-282da71efd34"
      },
      "execution_count": 96,
      "outputs": [
        {
          "output_type": "execute_result",
          "data": {
            "text/plain": [
              "['hallway',\n",
              " 11.25,\n",
              " 'kitchen',\n",
              " 18.0,\n",
              " 'living room',\n",
              " 20.0,\n",
              " 'bedroom',\n",
              " 10.75,\n",
              " 'bathroom',\n",
              " 9.5]"
            ]
          },
          "metadata": {},
          "execution_count": 96
        }
      ]
    },
    {
      "cell_type": "code",
      "source": [
        "# Sum of kitchen and bedroom area: eat_sleep_area\n",
        "eat_sleep_area = areas[3]+areas[-3]\n",
        "\n",
        "# Print the variable eat_sleep_area\n",
        "eat_sleep_area"
      ],
      "metadata": {
        "colab": {
          "base_uri": "https://localhost:8080/"
        },
        "id": "rnhRu3EUVsnI",
        "outputId": "8d1118bf-4842-4e14-f71d-ffda7631faba"
      },
      "execution_count": 97,
      "outputs": [
        {
          "output_type": "execute_result",
          "data": {
            "text/plain": [
              "28.75"
            ]
          },
          "metadata": {},
          "execution_count": 97
        }
      ]
    },
    {
      "cell_type": "markdown",
      "source": [
        "# **Exercise 12: Use slicing to create a list**"
      ],
      "metadata": {
        "id": "0oq4XonrWFDP"
      }
    },
    {
      "cell_type": "code",
      "source": [
        "# Given the areas list\n",
        "areas"
      ],
      "metadata": {
        "colab": {
          "base_uri": "https://localhost:8080/"
        },
        "id": "40JyGHlaZEO0",
        "outputId": "c92611f7-f0a7-4d4d-946e-f00fe156d904"
      },
      "execution_count": 98,
      "outputs": [
        {
          "output_type": "execute_result",
          "data": {
            "text/plain": [
              "['hallway',\n",
              " 11.25,\n",
              " 'kitchen',\n",
              " 18.0,\n",
              " 'living room',\n",
              " 20.0,\n",
              " 'bedroom',\n",
              " 10.75,\n",
              " 'bathroom',\n",
              " 9.5]"
            ]
          },
          "metadata": {},
          "execution_count": 98
        }
      ]
    },
    {
      "cell_type": "code",
      "source": [
        "# Use slicing to create downstairs: first 6 elements of areas\n",
        "downstairs = areas[:6]"
      ],
      "metadata": {
        "id": "pitZVCGpY486"
      },
      "execution_count": 102,
      "outputs": []
    },
    {
      "cell_type": "code",
      "source": [
        "# Use slicing to create upstairs: last 4 elements of areas\n",
        "upstairs = areas[-4:]"
      ],
      "metadata": {
        "id": "sDMhiY-7Y9V8"
      },
      "execution_count": 103,
      "outputs": []
    },
    {
      "cell_type": "code",
      "source": [
        "# Print out downstairs and upstairs\n",
        "print(downstairs)\n",
        "print(upstairs)"
      ],
      "metadata": {
        "colab": {
          "base_uri": "https://localhost:8080/"
        },
        "id": "TxxVdoztZCub",
        "outputId": "fa0543ad-acd0-4d36-dea4-2216b3fbabda"
      },
      "execution_count": 105,
      "outputs": [
        {
          "output_type": "stream",
          "name": "stdout",
          "text": [
            "['hallway', 11.25, 'kitchen', 18.0, 'living room', 20.0]\n",
            "['bedroom', 10.75, 'bathroom', 9.5]\n"
          ]
        }
      ]
    },
    {
      "cell_type": "markdown",
      "source": [
        "# **Exercise 13: Indexing again**"
      ],
      "metadata": {
        "id": "NrhbIq9-aMkV"
      }
    },
    {
      "cell_type": "code",
      "source": [
        "# Given the areas list\n",
        "areas"
      ],
      "metadata": {
        "colab": {
          "base_uri": "https://localhost:8080/"
        },
        "id": "4JYi15YmacA_",
        "outputId": "b66cda1b-9dac-4cf4-9865-39906a45c977"
      },
      "execution_count": 110,
      "outputs": [
        {
          "output_type": "execute_result",
          "data": {
            "text/plain": [
              "['hallway',\n",
              " 11.25,\n",
              " 'kitchen',\n",
              " 18.0,\n",
              " 'living room',\n",
              " 20.0,\n",
              " 'bedroom',\n",
              " 10.75,\n",
              " 'bathroom',\n",
              " 9.5]"
            ]
          },
          "metadata": {},
          "execution_count": 110
        }
      ]
    },
    {
      "cell_type": "code",
      "source": [
        "# Alternative slicing to create downstairs: omitting the beginning index\n",
        "areas[:6]"
      ],
      "metadata": {
        "id": "mE8M7PZmZGy7",
        "colab": {
          "base_uri": "https://localhost:8080/"
        },
        "outputId": "e6c3039b-05f6-4256-e27f-af6d7a3050fc"
      },
      "execution_count": 112,
      "outputs": [
        {
          "output_type": "execute_result",
          "data": {
            "text/plain": [
              "['hallway', 11.25, 'kitchen', 18.0, 'living room', 20.0]"
            ]
          },
          "metadata": {},
          "execution_count": 112
        }
      ]
    },
    {
      "cell_type": "code",
      "source": [
        "# Alternative slicing to create upstairs: omitting the end index\n",
        "areas[6:]"
      ],
      "metadata": {
        "colab": {
          "base_uri": "https://localhost:8080/"
        },
        "id": "RSpLTFC7agFa",
        "outputId": "03caec60-a0f2-4746-c96a-c661dadfc0a1"
      },
      "execution_count": 113,
      "outputs": [
        {
          "output_type": "execute_result",
          "data": {
            "text/plain": [
              "['bedroom', 10.75, 'bathroom', 9.5]"
            ]
          },
          "metadata": {},
          "execution_count": 113
        }
      ]
    },
    {
      "cell_type": "code",
      "source": [
        "# Negative indexing for the last five elements\n",
        "areas[-5:]"
      ],
      "metadata": {
        "colab": {
          "base_uri": "https://localhost:8080/"
        },
        "id": "pgPPwDQ4bqhK",
        "outputId": "e4ed31d7-f303-4907-9f69-a3da82671617"
      },
      "execution_count": 115,
      "outputs": [
        {
          "output_type": "execute_result",
          "data": {
            "text/plain": [
              "[20.0, 'bedroom', 10.75, 'bathroom', 9.5]"
            ]
          },
          "metadata": {},
          "execution_count": 115
        }
      ]
    },
    {
      "cell_type": "markdown",
      "source": [
        "# **Subsetting lists of lists**"
      ],
      "metadata": {
        "id": "FhZSZSrJb7mE"
      }
    },
    {
      "cell_type": "code",
      "source": [
        "# Given the following list\n",
        "x = [[\"a\", \"b\", \"c\"],\n",
        "     [\"d\", \"e\",\"f\"],\n",
        "     [\"g\", \"h\", \"i\"]]"
      ],
      "metadata": {
        "id": "y0l1Y9rlb-Fu"
      },
      "execution_count": 118,
      "outputs": []
    },
    {
      "cell_type": "code",
      "source": [
        "# Example 1\n",
        "x[2][0]"
      ],
      "metadata": {
        "colab": {
          "base_uri": "https://localhost:8080/",
          "height": 36
        },
        "id": "p5Oq55xycNAr",
        "outputId": "dab5227c-abca-4c0a-a57a-ea8e8f36dbc4"
      },
      "execution_count": 120,
      "outputs": [
        {
          "output_type": "execute_result",
          "data": {
            "text/plain": [
              "'g'"
            ],
            "application/vnd.google.colaboratory.intrinsic+json": {
              "type": "string"
            }
          },
          "metadata": {},
          "execution_count": 120
        }
      ]
    },
    {
      "cell_type": "code",
      "source": [
        "# Example 2\n",
        "x[2][:2]"
      ],
      "metadata": {
        "colab": {
          "base_uri": "https://localhost:8080/"
        },
        "id": "kYMQV-1JcXK9",
        "outputId": "bcf29e9d-9197-493a-e4df-b8b1c37de56b"
      },
      "execution_count": 121,
      "outputs": [
        {
          "output_type": "execute_result",
          "data": {
            "text/plain": [
              "['g', 'h']"
            ]
          },
          "metadata": {},
          "execution_count": 121
        }
      ]
    },
    {
      "cell_type": "code",
      "source": [
        "# Given the house variable from previous example\n",
        "house"
      ],
      "metadata": {
        "colab": {
          "base_uri": "https://localhost:8080/"
        },
        "id": "iF_a9bwmcf9_",
        "outputId": "ee704a36-dee9-40b3-89c2-d749b64b14ba"
      },
      "execution_count": 123,
      "outputs": [
        {
          "output_type": "execute_result",
          "data": {
            "text/plain": [
              "[['hallway', 11.25],\n",
              " ['kitchen', 18.0],\n",
              " ['living room', 20.0],\n",
              " ['bedroom', 10.75],\n",
              " ['bathroom', 9.5]]"
            ]
          },
          "metadata": {},
          "execution_count": 123
        }
      ]
    },
    {
      "cell_type": "code",
      "source": [
        "# subsetting house[-1][1]\n",
        "house[-1][1]"
      ],
      "metadata": {
        "colab": {
          "base_uri": "https://localhost:8080/"
        },
        "id": "hGcWYLoYc3uB",
        "outputId": "90d437ec-805b-49da-e4dc-9bed99f3b49c"
      },
      "execution_count": 124,
      "outputs": [
        {
          "output_type": "execute_result",
          "data": {
            "text/plain": [
              "9.5"
            ]
          },
          "metadata": {},
          "execution_count": 124
        }
      ]
    },
    {
      "cell_type": "code",
      "source": [
        "# Data type\n",
        "type(house[-1][1])"
      ],
      "metadata": {
        "colab": {
          "base_uri": "https://localhost:8080/"
        },
        "id": "R974o6vHdGc_",
        "outputId": "726fdac8-441a-44f9-f04d-8f5fb314a62a"
      },
      "execution_count": 125,
      "outputs": [
        {
          "output_type": "execute_result",
          "data": {
            "text/plain": [
              "float"
            ]
          },
          "metadata": {},
          "execution_count": 125
        }
      ]
    },
    {
      "cell_type": "markdown",
      "source": [
        "# **Manipulating Lists**"
      ],
      "metadata": {
        "id": "woyfTIDeeEKc"
      }
    },
    {
      "cell_type": "code",
      "source": [
        "# Given the fam list\n",
        "fam"
      ],
      "metadata": {
        "colab": {
          "base_uri": "https://localhost:8080/"
        },
        "id": "puff7rDReL19",
        "outputId": "9c7d134a-7fb2-4e6d-857e-862b415398d3"
      },
      "execution_count": 126,
      "outputs": [
        {
          "output_type": "execute_result",
          "data": {
            "text/plain": [
              "['Liz', 1.73, 'emma', 1.68, 'mom', 1.71, 'dad', 1.89]"
            ]
          },
          "metadata": {},
          "execution_count": 126
        }
      ]
    },
    {
      "cell_type": "code",
      "source": [
        "# Change of dad's height\n",
        "fam[-1]=1.86\n",
        "fam"
      ],
      "metadata": {
        "colab": {
          "base_uri": "https://localhost:8080/"
        },
        "id": "ddDRS3KmePBl",
        "outputId": "7eb63763-15c6-4704-e016-71f08815aa31"
      },
      "execution_count": 128,
      "outputs": [
        {
          "output_type": "execute_result",
          "data": {
            "text/plain": [
              "['Liz', 1.73, 'emma', 1.68, 'mom', 1.71, 'dad', 1.86]"
            ]
          },
          "metadata": {},
          "execution_count": 128
        }
      ]
    },
    {
      "cell_type": "code",
      "source": [
        "# Change of liz details\n",
        "fam[:2]=['lisa',1.74]\n",
        "fam"
      ],
      "metadata": {
        "colab": {
          "base_uri": "https://localhost:8080/"
        },
        "id": "hrS1_l1jebHC",
        "outputId": "723108d5-89d1-4f52-95e4-c5dcfc8bd8d5"
      },
      "execution_count": 131,
      "outputs": [
        {
          "output_type": "execute_result",
          "data": {
            "text/plain": [
              "['lisa', 1.74, 'emma', 1.68, 'mom', 1.71, 'dad', 1.86]"
            ]
          },
          "metadata": {},
          "execution_count": 131
        }
      ]
    },
    {
      "cell_type": "markdown",
      "source": [
        "# **Adding and removing elements in lists**\n"
      ],
      "metadata": {
        "id": "35BDe7ggfzQX"
      }
    },
    {
      "cell_type": "code",
      "source": [
        "# Given the items list\n",
        "# We want to add additional ietms\n",
        "items = ['cake', 'cookie', 'bread']\n",
        "items + ['biscuit', 'tart']"
      ],
      "metadata": {
        "colab": {
          "base_uri": "https://localhost:8080/"
        },
        "id": "wvA-pKQJqQnA",
        "outputId": "5f7eea55-117e-4856-ca71-942c3f84dae7"
      },
      "execution_count": 132,
      "outputs": [
        {
          "output_type": "execute_result",
          "data": {
            "text/plain": [
              "['cake', 'cookie', 'bread', 'biscuit', 'tart']"
            ]
          },
          "metadata": {},
          "execution_count": 132
        }
      ]
    },
    {
      "cell_type": "code",
      "source": [
        "# However, the items are not updates\n",
        "print(items)"
      ],
      "metadata": {
        "colab": {
          "base_uri": "https://localhost:8080/"
        },
        "id": "PoPJ7agZq1On",
        "outputId": "109f35b0-71bc-4a83-f45c-a3362b5a8156"
      },
      "execution_count": 133,
      "outputs": [
        {
          "output_type": "stream",
          "name": "stdout",
          "text": [
            "['cake', 'cookie', 'bread']\n"
          ]
        }
      ]
    },
    {
      "cell_type": "code",
      "source": [
        "# Create a new list to store the newly added items\n",
        "total_item = items + ['biscuit', 'tart']\n",
        "print(total_item)"
      ],
      "metadata": {
        "colab": {
          "base_uri": "https://localhost:8080/"
        },
        "id": "bhdOp8arq64j",
        "outputId": "dd63efa3-260a-4706-9e8b-b2123817b3e9"
      },
      "execution_count": 134,
      "outputs": [
        {
          "output_type": "stream",
          "name": "stdout",
          "text": [
            "['cake', 'cookie', 'bread', 'biscuit', 'tart']\n"
          ]
        }
      ]
    },
    {
      "cell_type": "code",
      "source": [
        "# Given the original fam list\n",
        "fam = [\"liz\", 1.73, \"emma\", 1.68, \"mom\", 1.71, \"dad\", 1.89]\n",
        "print(fam)"
      ],
      "metadata": {
        "colab": {
          "base_uri": "https://localhost:8080/"
        },
        "id": "UhYnfn-wqaGK",
        "outputId": "d0e244af-f35b-4a23-ef62-a759afba15b7"
      },
      "execution_count": 135,
      "outputs": [
        {
          "output_type": "stream",
          "name": "stdout",
          "text": [
            "['liz', 1.73, 'emma', 1.68, 'mom', 1.71, 'dad', 1.89]\n"
          ]
        }
      ]
    },
    {
      "cell_type": "code",
      "source": [
        "# A simple + sign would not add the data into the fam list permanently\n",
        "fam + ['me', 1.79]\n",
        "print(fam)"
      ],
      "metadata": {
        "colab": {
          "base_uri": "https://localhost:8080/"
        },
        "id": "WmQ4Vld4fy5d",
        "outputId": "07d32a93-8f77-432e-94aa-d0c2d056b17d"
      },
      "execution_count": 136,
      "outputs": [
        {
          "output_type": "execute_result",
          "data": {
            "text/plain": [
              "['liz', 1.73, 'emma', 1.68, 'mom', 1.71, 'dad', 1.89, 'me', 1.79]"
            ]
          },
          "metadata": {},
          "execution_count": 136
        }
      ]
    },
    {
      "cell_type": "code",
      "source": [
        "# This would add the data into the list by assignning a new variable\n",
        "fam_ext = fam + ['me', 1.79]\n",
        "print(fam_ext)"
      ],
      "metadata": {
        "colab": {
          "base_uri": "https://localhost:8080/"
        },
        "id": "DHRjrA76ljLu",
        "outputId": "7a877357-2852-47c8-b908-7f1d77eb55bf"
      },
      "execution_count": 137,
      "outputs": [
        {
          "output_type": "stream",
          "name": "stdout",
          "text": [
            "['liz', 1.73, 'emma', 1.68, 'mom', 1.71, 'dad', 1.89, 'me', 1.79]\n"
          ]
        }
      ]
    },
    {
      "cell_type": "code",
      "source": [
        "# Delete third element from fam list\n",
        "del(fam[2])"
      ],
      "metadata": {
        "id": "yTYg0yCYlwYP"
      },
      "execution_count": 138,
      "outputs": []
    },
    {
      "cell_type": "code",
      "source": [
        "# Latest fam list - emma being removed\n",
        "print(fam)"
      ],
      "metadata": {
        "colab": {
          "base_uri": "https://localhost:8080/"
        },
        "id": "KEbtXFmgl_4a",
        "outputId": "b4ce96ab-713e-4be7-a83c-ba910cfe6d9e"
      },
      "execution_count": 139,
      "outputs": [
        {
          "output_type": "stream",
          "name": "stdout",
          "text": [
            "['liz', 1.73, 1.68, 'mom', 1.71, 'dad', 1.89]\n"
          ]
        }
      ]
    },
    {
      "cell_type": "markdown",
      "source": [
        "#### We can use the **<font color='red'>plus-equals operator += </font>** to provide a convenient way to add a value **<font color='red'>to an existing variable</font>** and assign the new value **<font color='red'>back to the same variable</font>**."
      ],
      "metadata": {
        "id": "KFevqAiosdp6"
      }
    },
    {
      "cell_type": "code",
      "source": [
        "# Given the original fam list\n",
        "fam = [\"liz\", 1.73, \"emma\", 1.68, \"mom\", 1.71, \"dad\", 1.89]\n",
        "\n",
        "# Use of the plus-equals operator +=\n",
        "fam += ['me', 1.79]\n",
        "print(fam)"
      ],
      "metadata": {
        "colab": {
          "base_uri": "https://localhost:8080/"
        },
        "id": "BatMvvnYtAe7",
        "outputId": "a79d7c2c-320d-4c10-fd80-9cd42363dc4a"
      },
      "execution_count": 141,
      "outputs": [
        {
          "output_type": "stream",
          "name": "stdout",
          "text": [
            "['liz', 1.73, 'emma', 1.68, 'mom', 1.71, 'dad', 1.89, 'me', 1.79]\n"
          ]
        }
      ]
    },
    {
      "cell_type": "markdown",
      "source": [
        "# **Exercise 14: Updating the list**"
      ],
      "metadata": {
        "id": "3NQJmlSBrdwT"
      }
    },
    {
      "cell_type": "code",
      "source": [
        "# Given the areas list\n",
        "areas"
      ],
      "metadata": {
        "id": "ER6nvrVxeTsT",
        "colab": {
          "base_uri": "https://localhost:8080/"
        },
        "outputId": "d8df9def-e011-4753-d340-f45685e6fcb6"
      },
      "execution_count": 146,
      "outputs": [
        {
          "output_type": "execute_result",
          "data": {
            "text/plain": [
              "['hallway',\n",
              " 11.25,\n",
              " 'kitchen',\n",
              " 18.0,\n",
              " 'chill zone',\n",
              " 20.0,\n",
              " 'bedroom',\n",
              " 10.75,\n",
              " 'bathroom',\n",
              " 10.5]"
            ]
          },
          "metadata": {},
          "execution_count": 146
        }
      ]
    },
    {
      "cell_type": "code",
      "source": [
        "# Update the bathroom area to 10.5\n",
        "areas[-1] =10.5"
      ],
      "metadata": {
        "id": "tQSE25JYrp2w"
      },
      "execution_count": 143,
      "outputs": []
    },
    {
      "cell_type": "code",
      "source": [
        "# Change \"living room\" to \"chill zone\"\n",
        "areas[4] = 'chill zone'"
      ],
      "metadata": {
        "id": "G0mHMMITrvuh"
      },
      "execution_count": 145,
      "outputs": []
    },
    {
      "cell_type": "code",
      "source": [
        "# Check the latest areas list\n",
        "areas"
      ],
      "metadata": {
        "colab": {
          "base_uri": "https://localhost:8080/"
        },
        "id": "Yqwnb22-rynu",
        "outputId": "7f744d3a-a3f0-445b-9411-f329afcc07f5"
      },
      "execution_count": 147,
      "outputs": [
        {
          "output_type": "execute_result",
          "data": {
            "text/plain": [
              "['hallway',\n",
              " 11.25,\n",
              " 'kitchen',\n",
              " 18.0,\n",
              " 'chill zone',\n",
              " 20.0,\n",
              " 'bedroom',\n",
              " 10.75,\n",
              " 'bathroom',\n",
              " 10.5]"
            ]
          },
          "metadata": {},
          "execution_count": 147
        }
      ]
    },
    {
      "cell_type": "markdown",
      "source": [
        "# **Exercise 15: Another example**"
      ],
      "metadata": {
        "id": "NUgYNzcptWGs"
      }
    },
    {
      "cell_type": "code",
      "source": [
        "# Given the original areas\n",
        "areas = [\"hallway\", 11.25, \"kitchen\", 18.0, \"chill zone\", 20.0,\n",
        "         \"bedroom\", 10.75, \"bathroom\", 10.50]\n",
        "print(areas)"
      ],
      "metadata": {
        "id": "G7yfsnJleaBN",
        "colab": {
          "base_uri": "https://localhost:8080/"
        },
        "outputId": "04d119aa-68bf-4f2b-f609-27fc8a41c443"
      },
      "execution_count": 148,
      "outputs": [
        {
          "output_type": "stream",
          "name": "stdout",
          "text": [
            "['hallway', 11.25, 'kitchen', 18.0, 'chill zone', 20.0, 'bedroom', 10.75, 'bathroom', 10.5]\n"
          ]
        }
      ]
    },
    {
      "cell_type": "code",
      "source": [
        "# Add poolhouse data to areas, new list is areas_1\n",
        "areas_1 = areas + ['poolhouse', 24.5]\n",
        "print(areas_1)"
      ],
      "metadata": {
        "colab": {
          "base_uri": "https://localhost:8080/"
        },
        "id": "3z_vRdGjtf04",
        "outputId": "b6639362-9c07-4562-d1a9-1d0194877a63"
      },
      "execution_count": 149,
      "outputs": [
        {
          "output_type": "stream",
          "name": "stdout",
          "text": [
            "['hallway', 11.25, 'kitchen', 18.0, 'chill zone', 20.0, 'bedroom', 10.75, 'bathroom', 10.5, 'poolhouse', 24.5]\n"
          ]
        }
      ]
    },
    {
      "cell_type": "code",
      "source": [
        "# Add garage data to areas_1, new list is areas_2\n",
        "areas_2 = areas_1 + ['garage', 15.45]\n",
        "print(areas_2)"
      ],
      "metadata": {
        "colab": {
          "base_uri": "https://localhost:8080/"
        },
        "id": "M7LSo89Xtm1l",
        "outputId": "a44da80d-8934-4116-c2bc-5b15d6adff7c"
      },
      "execution_count": 152,
      "outputs": [
        {
          "output_type": "stream",
          "name": "stdout",
          "text": [
            "['hallway', 11.25, 'kitchen', 18.0, 'chill zone', 20.0, 'bedroom', 10.75, 'bathroom', 10.5, 'poolhouse', 24.5, 'garage', 15.45]\n"
          ]
        }
      ]
    },
    {
      "cell_type": "markdown",
      "source": [
        "# **Quiz**"
      ],
      "metadata": {
        "id": "l_Pfi_vDt6_L"
      }
    },
    {
      "cell_type": "code",
      "source": [
        "# Given the areas\n",
        "areas = areas_2[:]\n",
        "print(areas)\n",
        "\n",
        "# Output 1\n",
        "del(areas[-2]);del(areas[-4])\n",
        "print(areas)"
      ],
      "metadata": {
        "colab": {
          "base_uri": "https://localhost:8080/"
        },
        "id": "9VKw7VgEuR3P",
        "outputId": "6aa02373-3e31-448f-b5b6-52c25837447e"
      },
      "execution_count": 156,
      "outputs": [
        {
          "output_type": "stream",
          "name": "stdout",
          "text": [
            "['hallway', 11.25, 'kitchen', 18.0, 'chill zone', 20.0, 'bedroom', 10.75, 'bathroom', 10.5, 'poolhouse', 24.5, 'garage', 15.45]\n",
            "['hallway', 11.25, 'kitchen', 18.0, 'chill zone', 20.0, 'bedroom', 10.75, 'bathroom', 'poolhouse', 24.5, 15.45]\n"
          ]
        }
      ]
    },
    {
      "cell_type": "code",
      "source": [
        "# Given the areas\n",
        "areas = areas_2[:]\n",
        "print(areas)\n",
        "\n",
        "# Output 2\n",
        "del(areas[-4])\n",
        "print(areas)"
      ],
      "metadata": {
        "colab": {
          "base_uri": "https://localhost:8080/"
        },
        "id": "Jo3gxl0EuxJ3",
        "outputId": "7596c6fa-b082-4653-d9a1-8b7a32c0a8bb"
      },
      "execution_count": 158,
      "outputs": [
        {
          "output_type": "stream",
          "name": "stdout",
          "text": [
            "['hallway', 11.25, 'kitchen', 18.0, 'chill zone', 20.0, 'bedroom', 10.75, 'bathroom', 10.5, 'poolhouse', 24.5, 'garage', 15.45]\n",
            "['hallway', 11.25, 'kitchen', 18.0, 'chill zone', 20.0, 'bedroom', 10.75, 'bathroom', 10.5, 24.5, 'garage', 15.45]\n"
          ]
        }
      ]
    },
    {
      "cell_type": "code",
      "source": [
        "# Given the areas\n",
        "areas = areas_2[:]\n",
        "print(areas)\n",
        "\n",
        "# Output 3\n",
        "del(areas[-4:-2])\n",
        "print(areas)"
      ],
      "metadata": {
        "colab": {
          "base_uri": "https://localhost:8080/"
        },
        "id": "xMmzSRkvu6p7",
        "outputId": "664e44f2-35e3-4776-c7fa-d165dbd3704c"
      },
      "execution_count": 161,
      "outputs": [
        {
          "output_type": "stream",
          "name": "stdout",
          "text": [
            "['hallway', 11.25, 'kitchen', 18.0, 'chill zone', 20.0, 'bedroom', 10.75, 'bathroom', 10.5, 'poolhouse', 24.5, 'garage', 15.45]\n",
            "['hallway', 11.25, 'kitchen', 18.0, 'chill zone', 20.0, 'bedroom', 10.75, 'bathroom', 10.5, 'garage', 15.45]\n"
          ]
        }
      ]
    },
    {
      "cell_type": "code",
      "source": [
        "# Given the areas\n",
        "areas = areas_2[:]\n",
        "print(areas)\n",
        "\n",
        "# Output 4\n",
        "del(areas[-3]);del(areas[-5])\n",
        "print(areas)"
      ],
      "metadata": {
        "colab": {
          "base_uri": "https://localhost:8080/"
        },
        "id": "B-NyfqE8vHfW",
        "outputId": "51f5773b-bb5b-4f95-b9b7-42c087f42a23"
      },
      "execution_count": 162,
      "outputs": [
        {
          "output_type": "stream",
          "name": "stdout",
          "text": [
            "['hallway', 11.25, 'kitchen', 18.0, 'chill zone', 20.0, 'bedroom', 10.75, 'bathroom', 10.5, 'poolhouse', 24.5, 'garage', 15.45]\n",
            "['hallway', 11.25, 'kitchen', 18.0, 'chill zone', 20.0, 'bedroom', 10.75, 10.5, 'poolhouse', 'garage', 15.45]\n"
          ]
        }
      ]
    },
    {
      "cell_type": "markdown",
      "source": [
        "# **Your challenge**"
      ],
      "metadata": {
        "id": "cYTxPlUCvnLw"
      }
    },
    {
      "cell_type": "code",
      "source": [
        "# Create list areas\n",
        "areas = [11.25, 18.0, 20.0, 10.75, 9.50]"
      ],
      "metadata": {
        "id": "STmXeJWAvx_Y"
      },
      "execution_count": 169,
      "outputs": []
    },
    {
      "cell_type": "code",
      "source": [
        "# Create a copy by simply using equal sign\n",
        "areas_copy=areas\n",
        "\n",
        "# change the second element of areas_copy to 21.1\n",
        "areas_copy[1]=21.1\n",
        "\n",
        "# print the areas_and areas_copy\n",
        "print(areas)\n",
        "print(areas_copy)"
      ],
      "metadata": {
        "colab": {
          "base_uri": "https://localhost:8080/"
        },
        "id": "27WqpKobv4Wx",
        "outputId": "25c7ae3c-2802-43d2-a6f6-8f6fd318f2fc"
      },
      "execution_count": 164,
      "outputs": [
        {
          "output_type": "stream",
          "name": "stdout",
          "text": [
            "[11.25, 21.1, 20.0, 10.75, 9.5]\n",
            "[11.25, 21.1, 20.0, 10.75, 9.5]\n"
          ]
        }
      ]
    },
    {
      "cell_type": "code",
      "source": [
        "# To preserve the original areas data and make changes to areas_copy only\n",
        "areas_copy = list(areas)\n",
        "\n",
        "# Now make the changes to second element in areas_copy to 40\n",
        "areas_copy[1]=21.1\n",
        "\n",
        "# Print both areas and areas_copy\n",
        "print(areas)\n",
        "print(areas_copy)"
      ],
      "metadata": {
        "colab": {
          "base_uri": "https://localhost:8080/"
        },
        "id": "OlRue_LiwgDV",
        "outputId": "a21c079c-dfd3-443c-c1c7-1cdb10dc8d7f"
      },
      "execution_count": 170,
      "outputs": [
        {
          "output_type": "stream",
          "name": "stdout",
          "text": [
            "[11.25, 18.0, 20.0, 10.75, 9.5]\n",
            "[11.25, 21.1, 20.0, 10.75, 9.5]\n"
          ]
        }
      ]
    },
    {
      "cell_type": "markdown",
      "source": [
        "# **Good Luck and see you all next week!</p>**"
      ],
      "metadata": {
        "id": "4mH-DiGcxDNp"
      }
    }
  ]
}